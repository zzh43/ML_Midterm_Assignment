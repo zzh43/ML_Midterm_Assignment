{
  "nbformat": 4,
  "nbformat_minor": 0,
  "metadata": {
    "colab": {
      "name": "problem9.ipynb",
      "version": "0.3.2",
      "views": {},
      "default_view": {},
      "provenance": []
    },
    "kernelspec": {
      "name": "python2",
      "display_name": "Python 2"
    }
  },
  "cells": [
    {
      "metadata": {
        "id": "mm-3lr25OHvJ",
        "colab_type": "text"
      },
      "cell_type": "markdown",
      "source": [
        "情報理工学院・情報工学系\n",
        "\n",
        "18M30841\n",
        "\n",
        "鄭  志豪"
      ]
    },
    {
      "metadata": {
        "id": "zncyXs94OOqU",
        "colab_type": "text"
      },
      "cell_type": "markdown",
      "source": [
        "problem 9"
      ]
    },
    {
      "metadata": {
        "id": "ERw_0BdaOQ3U",
        "colab_type": "text"
      },
      "cell_type": "markdown",
      "source": [
        ""
      ]
    },
    {
      "metadata": {
        "id": "1d8mpRq4N7GJ",
        "colab_type": "code",
        "colab": {
          "autoexec": {
            "startup": false,
            "wait_interval": 0
          }
        }
      },
      "cell_type": "code",
      "source": [
        "import gzip\n",
        "import os\n",
        "import sys\n",
        "import struct\n",
        "import numpy as np\n",
        "\n",
        "def read_image(fi):\n",
        "    magic, n, rows, columns = struct.unpack(\">IIII\", fi.read(16))\n",
        "    assert magic == 0x00000803\n",
        "    assert rows == 28\n",
        "    assert columns == 28\n",
        "    rawbuffer = fi.read()\n",
        "    assert len(rawbuffer) == n * rows * columns\n",
        "    rawdata = np.frombuffer(rawbuffer, dtype='>u1', count=n*rows*columns)\n",
        "    return rawdata.reshape(n, rows, columns).astype(np.float32) / 255.0\n",
        "\n",
        "def read_label(fi):\n",
        "    magic, n = struct.unpack(\">II\", fi.read(8))\n",
        "    assert magic == 0x00000801\n",
        "    rawbuffer = fi.read()\n",
        "    assert len(rawbuffer) == n\n",
        "    return np.frombuffer(rawbuffer, dtype='>u1', count=n)\n",
        "\n",
        "if __name__ == '__main__':\n",
        "    os.system('wget -N http://yann.lecun.com/exdb/mnist/train-images-idx3-ubyte.gz')\n",
        "    os.system('wget -N http://yann.lecun.com/exdb/mnist/train-labels-idx1-ubyte.gz')\n",
        "    os.system('wget -N http://yann.lecun.com/exdb/mnist/t10k-images-idx3-ubyte.gz')\n",
        "    os.system('wget -N http://yann.lecun.com/exdb/mnist/t10k-labels-idx1-ubyte.gz')\n",
        "    \n",
        "    np.savez_compressed(\n",
        "        'mnist',\n",
        "        train_x=read_image(gzip.open('train-images-idx3-ubyte.gz', 'rb')),\n",
        "        train_y=read_label(gzip.open('train-labels-idx1-ubyte.gz', 'rb')),\n",
        "        test_x=read_image(gzip.open('t10k-images-idx3-ubyte.gz', 'rb')),\n",
        "        test_y=read_label(gzip.open('t10k-labels-idx1-ubyte.gz', 'rb'))\n",
        "    )"
      ],
      "execution_count": 0,
      "outputs": []
    },
    {
      "metadata": {
        "id": "cHrILGTtN8f8",
        "colab_type": "code",
        "colab": {
          "autoexec": {
            "startup": false,
            "wait_interval": 0
          }
        }
      },
      "cell_type": "code",
      "source": [
        "import numpy as np\n",
        "data = np.load('mnist.npz')"
      ],
      "execution_count": 0,
      "outputs": []
    },
    {
      "metadata": {
        "id": "aKaQ4pVDN-60",
        "colab_type": "code",
        "colab": {
          "autoexec": {
            "startup": false,
            "wait_interval": 0
          },
          "base_uri": "https://localhost:8080/",
          "height": 1006
        },
        "outputId": "adb9b9e2-10fb-49a6-cf2e-b84319f33398",
        "executionInfo": {
          "status": "ok",
          "timestamp": 1533541882210,
          "user_tz": -540,
          "elapsed": 3069,
          "user": {
            "displayName": "鄭志豪",
            "photoUrl": "https://lh3.googleusercontent.com/a/default-user=s128",
            "userId": "104522314461618159020"
          }
        }
      },
      "cell_type": "code",
      "source": [
        "!pip install livelossplot"
      ],
      "execution_count": 3,
      "outputs": [
        {
          "output_type": "stream",
          "text": [
            "Collecting livelossplot\n",
            "  Downloading https://files.pythonhosted.org/packages/0c/01/3e34559dbdb98580d5e8f62bc3853975c2a2079834bfba2c1bdffe680804/livelossplot-0.2.0.tar.gz\n",
            "Requirement already satisfied: matplotlib in /usr/local/lib/python2.7/dist-packages (from livelossplot) (2.1.2)\n",
            "Requirement already satisfied: notebook in /usr/local/lib/python2.7/dist-packages (from livelossplot) (5.2.2)\n",
            "Requirement already satisfied: cycler>=0.10 in /usr/local/lib/python2.7/dist-packages (from matplotlib->livelossplot) (0.10.0)\n",
            "Requirement already satisfied: numpy>=1.7.1 in /usr/local/lib/python2.7/dist-packages (from matplotlib->livelossplot) (1.14.5)\n",
            "Requirement already satisfied: backports.functools-lru-cache in /usr/local/lib/python2.7/dist-packages (from matplotlib->livelossplot) (1.5)\n",
            "Requirement already satisfied: subprocess32 in /usr/local/lib/python2.7/dist-packages (from matplotlib->livelossplot) (3.5.2)\n",
            "Requirement already satisfied: pytz in /usr/local/lib/python2.7/dist-packages (from matplotlib->livelossplot) (2018.5)\n",
            "Requirement already satisfied: six>=1.10 in /usr/local/lib/python2.7/dist-packages (from matplotlib->livelossplot) (1.11.0)\n",
            "Requirement already satisfied: python-dateutil>=2.1 in /usr/local/lib/python2.7/dist-packages (from matplotlib->livelossplot) (2.5.3)\n",
            "Requirement already satisfied: pyparsing!=2.0.4,!=2.1.2,!=2.1.6,>=2.0.1 in /usr/local/lib/python2.7/dist-packages (from matplotlib->livelossplot) (2.2.0)\n",
            "Requirement already satisfied: jupyter-client in /usr/local/lib/python2.7/dist-packages (from notebook->livelossplot) (5.2.3)\n",
            "Requirement already satisfied: terminado>=0.3.3; sys_platform != \"win32\" in /usr/local/lib/python2.7/dist-packages (from notebook->livelossplot) (0.8.1)\n",
            "Requirement already satisfied: traitlets>=4.2.1 in /usr/local/lib/python2.7/dist-packages (from notebook->livelossplot) (4.3.2)\n",
            "Requirement already satisfied: jinja2 in /usr/local/lib/python2.7/dist-packages (from notebook->livelossplot) (2.10)\n",
            "Requirement already satisfied: nbformat in /usr/local/lib/python2.7/dist-packages (from notebook->livelossplot) (4.4.0)\n",
            "Requirement already satisfied: ipykernel in /usr/local/lib/python2.7/dist-packages (from notebook->livelossplot) (4.6.1)\n",
            "Requirement already satisfied: tornado>=4 in /usr/local/lib/python2.7/dist-packages (from notebook->livelossplot) (4.5.3)\n",
            "Requirement already satisfied: jupyter-core in /usr/local/lib/python2.7/dist-packages (from notebook->livelossplot) (4.4.0)\n",
            "Requirement already satisfied: nbconvert in /usr/local/lib/python2.7/dist-packages (from notebook->livelossplot) (5.3.1)\n",
            "Requirement already satisfied: ipython-genutils in /usr/local/lib/python2.7/dist-packages (from notebook->livelossplot) (0.2.0)\n",
            "Requirement already satisfied: pyzmq>=13 in /usr/local/lib/python2.7/dist-packages (from jupyter-client->notebook->livelossplot) (16.0.4)\n",
            "Requirement already satisfied: ptyprocess; os_name != \"nt\" in /usr/local/lib/python2.7/dist-packages (from terminado>=0.3.3; sys_platform != \"win32\"->notebook->livelossplot) (0.6.0)\n",
            "Requirement already satisfied: enum34; python_version == \"2.7\" in /usr/local/lib/python2.7/dist-packages (from traitlets>=4.2.1->notebook->livelossplot) (1.1.6)\n",
            "Requirement already satisfied: decorator in /usr/local/lib/python2.7/dist-packages (from traitlets>=4.2.1->notebook->livelossplot) (4.3.0)\n",
            "Requirement already satisfied: MarkupSafe>=0.23 in /usr/local/lib/python2.7/dist-packages (from jinja2->notebook->livelossplot) (1.0)\n",
            "Requirement already satisfied: jsonschema!=2.5.0,>=2.4 in /usr/local/lib/python2.7/dist-packages (from nbformat->notebook->livelossplot) (2.6.0)\n",
            "Requirement already satisfied: ipython>=4.0.0 in /usr/local/lib/python2.7/dist-packages (from ipykernel->notebook->livelossplot) (5.5.0)\n",
            "Requirement already satisfied: singledispatch in /usr/local/lib/python2.7/dist-packages (from tornado>=4->notebook->livelossplot) (3.4.0.3)\n",
            "Requirement already satisfied: certifi in /usr/local/lib/python2.7/dist-packages (from tornado>=4->notebook->livelossplot) (2018.4.16)\n",
            "Requirement already satisfied: backports_abc>=0.4 in /usr/local/lib/python2.7/dist-packages (from tornado>=4->notebook->livelossplot) (0.5)\n",
            "Requirement already satisfied: entrypoints>=0.2.2 in /usr/local/lib/python2.7/dist-packages (from nbconvert->notebook->livelossplot) (0.2.3)\n",
            "Requirement already satisfied: testpath in /usr/local/lib/python2.7/dist-packages (from nbconvert->notebook->livelossplot) (0.3.1)\n",
            "Requirement already satisfied: mistune>=0.7.4 in /usr/local/lib/python2.7/dist-packages (from nbconvert->notebook->livelossplot) (0.8.3)\n",
            "Requirement already satisfied: bleach in /usr/local/lib/python2.7/dist-packages (from nbconvert->notebook->livelossplot) (2.1.3)\n",
            "Requirement already satisfied: pygments in /usr/local/lib/python2.7/dist-packages (from nbconvert->notebook->livelossplot) (2.1.3)\n",
            "Requirement already satisfied: pandocfilters>=1.4.1 in /usr/local/lib/python2.7/dist-packages (from nbconvert->notebook->livelossplot) (1.4.2)\n",
            "Requirement already satisfied: functools32; python_version == \"2.7\" in /usr/local/lib/python2.7/dist-packages (from jsonschema!=2.5.0,>=2.4->nbformat->notebook->livelossplot) (3.2.3.post2)\n",
            "Requirement already satisfied: simplegeneric>0.8 in /usr/local/lib/python2.7/dist-packages (from ipython>=4.0.0->ipykernel->notebook->livelossplot) (0.8.1)\n",
            "Requirement already satisfied: pickleshare in /usr/local/lib/python2.7/dist-packages (from ipython>=4.0.0->ipykernel->notebook->livelossplot) (0.7.4)\n",
            "Requirement already satisfied: backports.shutil-get-terminal-size; python_version == \"2.7\" in /usr/local/lib/python2.7/dist-packages (from ipython>=4.0.0->ipykernel->notebook->livelossplot) (1.0.0)\n",
            "Requirement already satisfied: pathlib2; python_version == \"2.7\" or python_version == \"3.3\" in /usr/local/lib/python2.7/dist-packages (from ipython>=4.0.0->ipykernel->notebook->livelossplot) (2.3.2)\n",
            "Requirement already satisfied: pexpect; sys_platform != \"win32\" in /usr/local/lib/python2.7/dist-packages (from ipython>=4.0.0->ipykernel->notebook->livelossplot) (4.6.0)\n",
            "Requirement already satisfied: prompt-toolkit<2.0.0,>=1.0.4 in /usr/local/lib/python2.7/dist-packages (from ipython>=4.0.0->ipykernel->notebook->livelossplot) (1.0.15)\n",
            "Requirement already satisfied: setuptools>=18.5 in /usr/local/lib/python2.7/dist-packages (from ipython>=4.0.0->ipykernel->notebook->livelossplot) (39.1.0)\n",
            "Requirement already satisfied: configparser>=3.5; python_version == \"2.7\" in /usr/local/lib/python2.7/dist-packages (from entrypoints>=0.2.2->nbconvert->notebook->livelossplot) (3.5.0)\n",
            "Requirement already satisfied: html5lib!=1.0b1,!=1.0b2,!=1.0b3,!=1.0b4,!=1.0b5,!=1.0b6,!=1.0b7,!=1.0b8,>=0.99999999pre in /usr/local/lib/python2.7/dist-packages (from bleach->nbconvert->notebook->livelossplot) (1.0.1)\n",
            "Requirement already satisfied: scandir; python_version < \"3.5\" in /usr/local/lib/python2.7/dist-packages (from pathlib2; python_version == \"2.7\" or python_version == \"3.3\"->ipython>=4.0.0->ipykernel->notebook->livelossplot) (1.8)\n",
            "Requirement already satisfied: wcwidth in /usr/local/lib/python2.7/dist-packages (from prompt-toolkit<2.0.0,>=1.0.4->ipython>=4.0.0->ipykernel->notebook->livelossplot) (0.1.7)\n",
            "Requirement already satisfied: webencodings in /usr/local/lib/python2.7/dist-packages (from html5lib!=1.0b1,!=1.0b2,!=1.0b3,!=1.0b4,!=1.0b5,!=1.0b6,!=1.0b7,!=1.0b8,>=0.99999999pre->bleach->nbconvert->notebook->livelossplot) (0.5.1)\n",
            "Building wheels for collected packages: livelossplot\n",
            "  Running setup.py bdist_wheel for livelossplot ... \u001b[?25l-\b \bdone\n",
            "\u001b[?25h  Stored in directory: /content/.cache/pip/wheels/67/8b/e9/3990164e3b2a421145b9d9d76fc8aa889225d495b043faeb73\n",
            "Successfully built livelossplot\n",
            "Installing collected packages: livelossplot\n",
            "Successfully installed livelossplot-0.2.0\n"
          ],
          "name": "stdout"
        }
      ]
    },
    {
      "metadata": {
        "id": "IXi4obXTOA0l",
        "colab_type": "code",
        "colab": {
          "autoexec": {
            "startup": false,
            "wait_interval": 0
          },
          "base_uri": "https://localhost:8080/",
          "height": 339
        },
        "outputId": "fa7d685f-651f-4d81-e31b-9efa10f79dfb",
        "executionInfo": {
          "status": "ok",
          "timestamp": 1533542162124,
          "user_tz": -540,
          "elapsed": 229,
          "user": {
            "displayName": "鄭志豪",
            "photoUrl": "https://lh3.googleusercontent.com/a/default-user=s128",
            "userId": "104522314461618159020"
          }
        }
      },
      "cell_type": "code",
      "source": [
        "import numpy as np\n",
        "from livelossplot import PlotLosses\n",
        "\n",
        "def softmax(x):\n",
        "    # Result of softmax are invariant even if we add/subtract a constant.\n",
        "    ex = np.exp(x - np.max(x))  # Subtract such that the maximum value is one.\n",
        "    return ex / ex.sum(axis=0)\n",
        "\n",
        "def image_to_vector(X):\n",
        "    X = np.reshape(X, (len(X), -1))     # Flatten: (N x 28 x 28) -> (N x 784)\n",
        "    return np.c_[X, np.ones(len(X))]    # Append 1: (N x 784) -> (N x 785)\n",
        "\n",
        "def label_to_onehot(Y, K):\n",
        "    return np.eye(K)[Y]              # e.g., 3 -> [0, 0, 0, 1, 0, 0, 0, 0, 0]\n",
        "    \n",
        "data = np.load('mnist.npz')\n",
        "Xtrain = image_to_vector(data['train_x'])\n",
        "Ytrain = label_to_onehot(data['train_y'], 10)\n",
        "Xtest = image_to_vector(data['test_x'])\n",
        "Ytest = data['test_y']\n",
        "\n",
        "W = np.random.randn(10, 28*28+1)\n",
        "\n",
        "eta = 0.001\n",
        "liveloss = PlotLosses()\n",
        "for t in range(100):\n",
        "    num_correct_train = 0\n",
        "    \n",
        "    # Stochastic gradient descent.\n",
        "    for x, y in zip(Xtrain, Ytrain):\n",
        "        y_pred = softmax(np.dot(W, x))\n",
        "        W += np.outer(eta * (y - y_pred), x)\n",
        "        if  np.argmax(y_pred) == np.argmax(y):\n",
        "            num_correct_train += 1\n",
        "\n",
        "    # Evaluate and store the accuracy on the test set.\n",
        "    num_correct_test = 0\n",
        "    for x, y in zip(Xtest, Ytest):\n",
        "        y_pred = np.argmax(np.dot(W, x))\n",
        "        if y_pred == y:\n",
        "            num_correct_test += 1\n",
        "            \n",
        "    # Visualize accuracy values on the training and test sets.\n",
        "    liveloss.update({\n",
        "        'accuracy': float(num_correct_train) / len(Ytrain),\n",
        "        'val_accuracy': float(num_correct_test) / len(Ytest)\n",
        "    })\n",
        "    liveloss.draw()\n",
        "\n",
        "print('Accuracy: {:.4f} (test), {:.4f} (train)'.format(\n",
        "    float(num_correct_test) / len(Ytest), \n",
        "    float(num_correct_train) / len(Ytrain)\n",
        "    ))\n",
        "\n"
      ],
      "execution_count": 4,
      "outputs": [
        {
          "output_type": "display_data",
          "data": {
            "image/png": "[encoded data removed]",
            "text/plain": [
              "<matplotlib.figure.Figure at 0x7fbef459c350>"
            ]
          },
          "metadata": {
            "tags": []
          }
        },
        {
          "output_type": "stream",
          "text": [
            "Accuracy: 0.9163 (test), 0.9257 (train)\n"
          ],
          "name": "stdout"
        }
      ]
    },
    {
      "metadata": {
        "id": "43E7KpNeOEcm",
        "colab_type": "code",
        "colab": {
          "autoexec": {
            "startup": false,
            "wait_interval": 0
          }
        }
      },
      "cell_type": "code",
      "source": [
        ""
      ],
      "execution_count": 0,
      "outputs": []
    }
  ]
}