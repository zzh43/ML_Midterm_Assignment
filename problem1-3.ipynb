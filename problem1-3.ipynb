{
  "nbformat": 4,
  "nbformat_minor": 0,
  "metadata": {
    "colab": {
      "name": "Untitled9.ipynb",
      "version": "0.3.2",
      "provenance": []
    },
    "kernelspec": {
      "name": "python2",
      "display_name": "Python 2"
    }
  },
  "cells": [
    {
      "metadata": {
        "id": "dx4KG34KC2Qm",
        "colab_type": "text"
      },
      "cell_type": "markdown",
      "source": [
        "情報理工学院・情報工学系\n",
        "\n",
        "18M30841\n",
        "\n",
        "鄭 志豪"
      ]
    },
    {
      "metadata": {
        "id": "Ns0MZgjNC7Ss",
        "colab_type": "text"
      },
      "cell_type": "markdown",
      "source": [
        "problem1-3: Compare the performance of the two optimization methods"
      ]
    },
    {
      "metadata": {
        "id": "erieIuHtR0t3",
        "colab_type": "code",
        "colab": {
          "base_uri": "https://localhost:8080/",
          "height": 361
        },
        "outputId": "b3d73389-6461-4261-bae9-6ab8a76e6bb0"
      },
      "cell_type": "code",
      "source": [
        "# -*- coding: utf-8 -*-\n",
        "\n",
        "import numpy as np\n",
        "import math\n",
        "import random\n",
        "from matplotlib import pyplot as plt\n",
        "\n",
        "# learning rate\n",
        "rate = 0.2\n",
        "# hyper parameter\n",
        "ramuda = 1.0  \n",
        "\n",
        "# data set\n",
        "n = 40\n",
        "omega = np.random.randn(1, 1)\n",
        "noise = 0.8 * np.random.randn(n, 1)\n",
        "x = np.random.randn(n, 2)\n",
        "y = 2 * (omega * x[:, 0] + x[:, 1] + noise.T > 0) - 1\n",
        "\n",
        "w_sgd = np.random.randn(1, 2)\n",
        "w_newton = w_sgd\n",
        "Lip = np.max(np.linalg.eigvals(np.dot(x.T, x) + 2 * ramuda)) / 4\n",
        "jw_sgd = []\n",
        "jw_newton = []\n",
        "\n",
        "# jw (log-loss)\n",
        "def jw(y, w, x):\n",
        "    temp = 0.0\n",
        "    for i in range(0, len(y)):\n",
        "        k = -y[0, i] * np.dot(w[0].T, x[i])\n",
        "        temp += math.log(1 + math.exp(k))\n",
        "    jw = (1 / n) * temp + ramuda * np.dot(w[0].T, w[0])\n",
        "    return jw\n",
        "\n",
        "# djw\n",
        "def djw(y, w, x):\n",
        "    temp = 0.0\n",
        "    for i in range(0, len(y)):\n",
        "      a = math.exp(-y[0, i] * np.dot(w[0].T, x[i]))\n",
        "      b = -y[0, i] * x[i]\n",
        "      temp += (a * b) / (1 + a)\n",
        "    djw = (1 / n) * temp + 2 * ramuda * w\n",
        "    return djw\n",
        "\n",
        "# Hessian\n",
        "def hessian(y, w, x):\n",
        "    H = np.mat('0 ,0; 0, 0', dtype = float)\n",
        "    temp = np.mat('0 ,0; 0 ,0', dtype = float)\n",
        "    I = np.mat('1, 0; 0, 1',dtype = float)\n",
        "    for i in range(0, len(y.T)):\n",
        "        a = -y[0, i] * np.dot(w[0].T, x[i])\n",
        "        b = math.exp(a)\n",
        "        c = np.dot(x[i], x[i].T)\n",
        "        temp += (b / ((1 + b) ** 2)) * c\n",
        "    H = (1 / n) * temp + 2 * ramuda * I\n",
        "    return H\n",
        "\n",
        "if __name__ == '__main__':\n",
        "    loss_sgd = jw(y, w_sgd, x)\n",
        "    jw_sgd.append(loss_sgd)\n",
        "    for step in range(1, 16):\n",
        "        d = djw(y, w_sgd, x)\n",
        "        w_sgd = w_sgd - (1 / Lip) * d\n",
        "        loss_sgd = jw(y, w_sgd, x)\n",
        "        jw_sgd.append(loss_sgd)\n",
        "\n",
        "    loss_newton = jw(y, w_newton, x)\n",
        "    jw_newton.append(loss_newton)\n",
        "    for step in range(1, 16):\n",
        "        H = hessian(y, w_newton, x)\n",
        "        d = djw(y, w_newton, x)\n",
        "        w_newton = w_newton - np.dot(H.I, w_newton.T).A1\n",
        "        loss = jw(y, w_newton, x)\n",
        "        jw_newton.append(loss)\n",
        "\n",
        "    plt.plot(jw_sgd)\n",
        "    plt.plot(jw_newton)\n",
        "    plt.legend(['steepest gradient','Newton based'])\n",
        "    plt.xlabel('interation')\n",
        "    plt.ylabel('J(w)')\n",
        "    plt.show()\n"
      ],
      "execution_count": 21,
      "outputs": [
        {
          "output_type": "display_data",
          "data": {
            "image/png": "[encoded data removed]",
            "text/plain": [
              "<matplotlib.figure.Figure at 0x7f7bc9310a50>"
            ]
          },
          "metadata": {
            "tags": []
          }
        }
      ]
    },
    {
      "metadata": {
        "id": "RsyhPzQCDSEL",
        "colab_type": "code",
        "colab": {}
      },
      "cell_type": "code",
      "source": [
        ""
      ],
      "execution_count": 0,
      "outputs": []
    }
  ]
}