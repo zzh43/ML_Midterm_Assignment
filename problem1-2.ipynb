{
  "nbformat": 4,
  "nbformat_minor": 0,
  "metadata": {
    "colab": {
      "name": "Untitled11.ipynb",
      "version": "0.3.2",
      "provenance": []
    },
    "kernelspec": {
      "name": "python2",
      "display_name": "Python 2"
    }
  },
  "cells": [
    {
      "metadata": {
        "id": "kXtc5aG1-G4G",
        "colab_type": "text"
      },
      "cell_type": "markdown",
      "source": [
        "情報理工学院・情報工学系\n",
        "\n",
        "18M30841\n",
        "\n",
        "鄭 志豪"
      ]
    },
    {
      "metadata": {
        "id": "1hZR-SMVAccB",
        "colab_type": "text"
      },
      "cell_type": "markdown",
      "source": [
        "problem1-2: Newton method"
      ]
    },
    {
      "metadata": {
        "id": "kTTsiMiD93cQ",
        "colab_type": "code",
        "colab": {
          "base_uri": "https://localhost:8080/",
          "height": 361
        },
        "outputId": "36efd078-7a99-42c6-a762-6511f498323c"
      },
      "cell_type": "code",
      "source": [
        "# -*- coding: utf-8 -*-\n",
        "\n",
        "import numpy as np\n",
        "import math\n",
        "import random\n",
        "from matplotlib import pyplot as plt\n",
        "\n",
        "# hyper parameter\n",
        "ramuda = 1.0  \n",
        "\n",
        "# data set\n",
        "n = 40\n",
        "omega = np.random.randn(1, 1)\n",
        "noise = 0.8 * np.random.randn(n, 1)\n",
        "x = np.random.randn(n, 2)\n",
        "y = 2 * (omega * x[:, 0] + x[:, 1] + noise.T > 0) - 1\n",
        "\n",
        "w_newton = np.random.randn(1, 2)\n",
        "jw_newton = []\n",
        "\n",
        "# jw (log-loss)\n",
        "def jw(y, w, x):\n",
        "    temp = 0.0\n",
        "    for i in range(0, len(y)):\n",
        "        k = -y[0, i] * np.dot(w[0].T, x[i])\n",
        "        temp += math.log(1 + math.exp(k))\n",
        "    jw = (1 / n) * temp + ramuda * np.dot(w[0].T, w[0])\n",
        "    return jw\n",
        "\n",
        "# djw\n",
        "def djw(y, w, x):\n",
        "    temp = 0.0\n",
        "    for i in range(0, len(y)):\n",
        "      a = math.exp(-y[0, i] * np.dot(w[0].T, x[i]))\n",
        "      b = -y[0, i] * x[i]\n",
        "      temp += (a * b) / (1 + a)\n",
        "    djw = (1 / n) * temp + 2 * ramuda * w\n",
        "    return djw\n",
        "\n",
        "# Hessian\n",
        "def hessian(y, w, x):\n",
        "    H = np.mat('0 ,0; 0, 0', dtype = float)\n",
        "    temp = np.mat('0 ,0; 0 ,0', dtype = float)\n",
        "    I = np.mat('1, 0; 0, 1',dtype = float)\n",
        "    for i in range(0, len(y.T)):\n",
        "        a = -y[0, i] * np.dot(w[0].T, x[i])\n",
        "        b = math.exp(a)\n",
        "        c = np.dot(x[i], x[i].T)\n",
        "        temp += (b / ((1 + b) ** 2)) * c\n",
        "    H = (1 / n) * temp + 2 * ramuda * I\n",
        "    return H\n",
        "\n",
        "if __name__ == '__main__':\n",
        "    loss_newton = jw(y, w_newton, x)\n",
        "    jw_newton.append(loss_newton)\n",
        "    for step in range(1, 16):\n",
        "        H = hessian(y, w_newton, x)\n",
        "        d = djw(y, w_newton, x)\n",
        "        w_newton = w_newton - np.dot(H.I, w_newton.T).A1\n",
        "        loss = jw(y, w_newton, x)\n",
        "        jw_newton.append(loss)\n",
        "\n",
        "    plt.plot(jw_newton)\n",
        "    plt.xlabel('interation')\n",
        "    plt.ylabel('J(w)')\n",
        "    plt.show()\n"
      ],
      "execution_count": 2,
      "outputs": [
        {
          "output_type": "display_data",
          "data": {
            "image/png": "[encoded data removed]",
            "text/plain": [
              "<matplotlib.figure.Figure at 0x7f733b264890>"
            ]
          },
          "metadata": {
            "tags": []
          }
        }
      ]
    },
    {
      "metadata": {
        "id": "XjwibPJjCbJ8",
        "colab_type": "code",
        "colab": {}
      },
      "cell_type": "code",
      "source": [
        ""
      ],
      "execution_count": 0,
      "outputs": []
    }
  ]
}
