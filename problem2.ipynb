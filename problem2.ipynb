{
  "nbformat": 4,
  "nbformat_minor": 0,
  "metadata": {
    "colab": {
      "name": "problem2.ipynb",
      "version": "0.3.2",
      "views": {},
      "default_view": {},
      "provenance": []
    },
    "kernelspec": {
      "name": "python3",
      "display_name": "Python 3"
    }
  },
  "cells": [
    {
      "metadata": {
        "id": "qQTeXTlvd8_T",
        "colab_type": "text"
      },
      "cell_type": "markdown",
      "source": [
        "情報理工学院・情報工学系\n",
        "\n",
        "18M30841\n",
        "\n",
        "鄭 志豪"
      ]
    },
    {
      "metadata": {
        "id": "FE8GtcQyeBv4",
        "colab_type": "text"
      },
      "cell_type": "markdown",
      "source": [
        "problem2-1: Proximal Gradient method"
      ]
    },
    {
      "metadata": {
        "id": "vBon0Xufd7zZ",
        "colab_type": "code",
        "colab": {
          "autoexec": {
            "startup": false,
            "wait_interval": 0
          },
          "base_uri": "https://localhost:8080/",
          "height": 381
        },
        "outputId": "a206afab-66e8-4158-fee6-18125ef65b23",
        "executionInfo": {
          "status": "ok",
          "timestamp": 1533708352011,
          "user_tz": -540,
          "elapsed": 1155,
          "user": {
            "displayName": "鄭志豪",
            "photoUrl": "https://lh3.googleusercontent.com/a/default-user=s128",
            "userId": "104522314461618159020"
          }
        }
      },
      "cell_type": "code",
      "source": [
        "# -*- coding: utf-8 -*-\n",
        "\n",
        "import numpy as np\n",
        "import matplotlib.pyplot as plt\n",
        "\n",
        "ramuda = 1\n",
        "A = np.mat([[3,0.5], [0.5,1]])\n",
        "w = np.mat([[3], [-1]])\n",
        "myu = np.array([[1], [2]])\n",
        "Lipsitz = np.max(np.linalg.eigvals(2 * A))\n",
        "\n",
        "def f(A, w, myu, ramuda):\n",
        "  return (np.dot(np.dot((w - myu).T, A), (w - myu)) + ramuda * np.linalg.norm(w, 1))[0, 0]\n",
        "\n",
        "def grad(A, w, myu):\n",
        "  return 2 * np.dot(A, (w - myu))\n",
        "\n",
        "def soft_thresh(update, threshold):\n",
        "  return np.multiply(np.sign(update), np.maximum(0, np.abs(update) - threshold))\n",
        "\n",
        "if __name__ == '__main__':\n",
        "  J_list = []\n",
        "  W = []\n",
        "\n",
        "  for i in range(100):\n",
        "    J_list.append(f(A, w, myu, ramuda))\n",
        "    W.append((w[0, 0], w[1, 0]))\n",
        "    w = soft_thresh(w - grad(A, w, myu) / Lipsitz, ramuda / Lipsitz)\n",
        "  print(w)\n",
        "\n",
        "  res = []\n",
        "  for element in W:\n",
        "    res.append(np.linalg.norm((element[0] - w[0,0], element[0] - w[1,0])))\n",
        "\n",
        "  plt.yscale('log') \n",
        "  plt.plot(res)\n",
        "  plt.show()\n"
      ],
      "execution_count": 1,
      "outputs": [
        {
          "output_type": "stream",
          "text": [
            "[[0.90909091]\n",
            " [1.54545455]]\n"
          ],
          "name": "stdout"
        },
        {
          "output_type": "display_data",
          "data": {
            "image/png": "[encoded data removed]",
            "text/plain": [
              "<matplotlib.figure.Figure at 0x7f4a2181ccf8>"
            ]
          },
          "metadata": {
            "tags": []
          }
        }
      ]
    },
    {
      "metadata": {
        "id": "-4ycVLAgmCWj",
        "colab_type": "text"
      },
      "cell_type": "markdown",
      "source": [
        "problem2-2: Accelerated Proximal Gradient method"
      ]
    },
    {
      "metadata": {
        "id": "djrEe-2YI6MM",
        "colab_type": "text"
      },
      "cell_type": "markdown",
      "source": [
        "λ = 2"
      ]
    },
    {
      "metadata": {
        "id": "btsXyBTteTnr",
        "colab_type": "code",
        "colab": {
          "autoexec": {
            "startup": false,
            "wait_interval": 0
          },
          "base_uri": "https://localhost:8080/",
          "height": 386
        },
        "outputId": "78a80f89-a09c-4cc7-fd3d-1d8de3ae5801",
        "executionInfo": {
          "status": "ok",
          "timestamp": 1533708399456,
          "user_tz": -540,
          "elapsed": 1054,
          "user": {
            "displayName": "鄭志豪",
            "photoUrl": "https://lh3.googleusercontent.com/a/default-user=s128",
            "userId": "104522314461618159020"
          }
        }
      },
      "cell_type": "code",
      "source": [
        "# -*- coding: utf-8 -*-\n",
        "\n",
        "import numpy as np\n",
        "import matplotlib.pyplot as plt\n",
        "\n",
        "ramuda = 2\n",
        "A = np.mat([[3,0.5], [0.5,1]])\n",
        "w = np.mat([[3], [-1]])\n",
        "myu = np.array([[1], [2]])\n",
        "Lipsitz = np.max(np.linalg.eigvals(2 * A))\n",
        "\n",
        "def f(A, w, myu, ramuda):\n",
        "  return (np.dot(np.dot((w - myu).T, A), (w - myu)) + ramuda * np.linalg.norm(w, 1))[0, 0]\n",
        "\n",
        "def grad(A, w, myu):\n",
        "  return 2 * np.dot(A, (w - myu))\n",
        "\n",
        "def soft_thresh(update, threshold):\n",
        "  return np.multiply(np.sign(update), np.maximum(0, np.abs(update) - threshold))\n",
        "\n",
        "def q(t):\n",
        "  return (t - 1) / (t + 2)\n",
        "\n",
        "if __name__ == '__main__':\n",
        "  J_list = []\n",
        "  W = []\n",
        "  J_list_APG = []\n",
        "  \n",
        "  # PG method\n",
        "  for i in range(100):\n",
        "    J_list.append(f(A, w, myu, ramuda))\n",
        "    W.append((w[0, 0], w[1, 0]))\n",
        "    w = soft_thresh(w - grad(A, w, myu) / Lipsitz, ramuda / Lipsitz)\n",
        "  J = f(A, w, myu, ramuda)\n",
        "  res = []\n",
        "  for element in W:\n",
        "    res.append(np.linalg.norm((element[0] - w[0,0], element[0] - w[1,0])))\n",
        "  \n",
        "  # APG method\n",
        "  w = np.mat([[3],[-1]])\n",
        "  J_list_APG.append(f(A, w, myu, ramuda))\n",
        "  w_pre = w\n",
        "  w = soft_thresh(w-grad(A,w_pre,myu)/Lipsitz, ramuda / Lipsitz)\n",
        "  for i in range(1, 150):\n",
        "    v = w + q(i) * (w - w_pre)\n",
        "    w_pre = w\n",
        "    J_list_APG.append(f(A, w, myu, ramuda))\n",
        "    w = soft_thresh(v-grad(A, v, myu) / Lipsitz, ramuda / Lipsitz)\n",
        "  J_APG = f(A, w, myu, ramuda)\n",
        "  print(w)\n",
        "\n",
        "  # compare with AG in problem2-1\n",
        "  plt.yscale('log') \n",
        "  plt.plot(J_list - J)\n",
        "  plt.plot(J_list_APG - J_APG)\n",
        "  plt.legend(['PG', 'APG'])\n",
        "  plt.show()"
      ],
      "execution_count": 3,
      "outputs": [
        {
          "output_type": "stream",
          "text": [
            "[[0.81818182]\n",
            " [1.09090909]]\n"
          ],
          "name": "stdout"
        },
        {
          "output_type": "display_data",
          "data": {
            "image/png": "[encoded data removed]",
            "text/plain": [
              "<matplotlib.figure.Figure at 0x7f4a1f78f0f0>"
            ]
          },
          "metadata": {
            "tags": []
          }
        }
      ]
    },
    {
      "metadata": {
        "id": "pNQ51QWJggma",
        "colab_type": "code",
        "colab": {
          "autoexec": {
            "startup": false,
            "wait_interval": 0
          }
        }
      },
      "cell_type": "code",
      "source": [
        "λ = 4"
      ],
      "execution_count": 0,
      "outputs": []
    },
    {
      "metadata": {
        "id": "0hEuMUkqJJXp",
        "colab_type": "code",
        "colab": {
          "autoexec": {
            "startup": false,
            "wait_interval": 0
          },
          "base_uri": "https://localhost:8080/",
          "height": 384
        },
        "outputId": "9bfb58b9-e80e-4eff-dd68-4321ace217b8",
        "executionInfo": {
          "status": "ok",
          "timestamp": 1533708403655,
          "user_tz": -540,
          "elapsed": 949,
          "user": {
            "displayName": "鄭志豪",
            "photoUrl": "https://lh3.googleusercontent.com/a/default-user=s128",
            "userId": "104522314461618159020"
          }
        }
      },
      "cell_type": "code",
      "source": [
        "# -*- coding: utf-8 -*-\n",
        "\n",
        "import numpy as np\n",
        "import matplotlib.pyplot as plt\n",
        "\n",
        "ramuda = 4\n",
        "A = np.mat([[3,0.5], [0.5,1]])\n",
        "w = np.mat([[3], [-1]])\n",
        "myu = np.array([[1], [2]])\n",
        "Lipsitz = np.max(np.linalg.eigvals(2 * A))\n",
        "\n",
        "def f(A, w, myu, ramuda):\n",
        "  return (np.dot(np.dot((w - myu).T, A), (w - myu)) + ramuda * np.linalg.norm(w, 1))[0, 0]\n",
        "\n",
        "def grad(A, w, myu):\n",
        "  return 2 * np.dot(A, (w - myu))\n",
        "\n",
        "def soft_thresh(update, threshold):\n",
        "  return np.multiply(np.sign(update), np.maximum(0, np.abs(update) - threshold))\n",
        "\n",
        "def q(t):\n",
        "  return (t - 1) / (t + 2)\n",
        "\n",
        "if __name__ == '__main__':\n",
        "  J_list = []\n",
        "  W = []\n",
        "  J_list_APG = []\n",
        "  \n",
        "  # PG method\n",
        "  for i in range(100):\n",
        "    J_list.append(f(A, w, myu, ramuda))\n",
        "    W.append((w[0, 0], w[1, 0]))\n",
        "    w = soft_thresh(w - grad(A, w, myu) / Lipsitz, ramuda / Lipsitz)\n",
        "  J = f(A, w, myu, ramuda)\n",
        "  res = []\n",
        "  for element in W:\n",
        "    res.append(np.linalg.norm((element[0] - w[0,0], element[0] - w[1,0])))\n",
        "  \n",
        "  # APG method\n",
        "  w = np.mat([[3],[-1]])\n",
        "  J_list_APG.append(f(A, w, myu, ramuda))\n",
        "  w_pre = w\n",
        "  w = soft_thresh(w-grad(A,w_pre,myu)/Lipsitz, ramuda / Lipsitz)\n",
        "  for i in range(1, 150):\n",
        "    v = w + q(i) * (w - w_pre)\n",
        "    w_pre = w\n",
        "    J_list_APG.append(f(A, w, myu, ramuda))\n",
        "    w = soft_thresh(v-grad(A, v, myu) / Lipsitz, ramuda / Lipsitz)\n",
        "  J_APG = f(A, w, myu, ramuda)\n",
        "  print(w)\n",
        "\n",
        "  # compare with AG in problem2-1\n",
        "  plt.yscale('log') \n",
        "  plt.plot(J_list - J)\n",
        "  plt.plot(J_list_APG - J_APG)\n",
        "  plt.legend(['PG', 'APG'])\n",
        "  plt.show()"
      ],
      "execution_count": 4,
      "outputs": [
        {
          "output_type": "stream",
          "text": [
            "[[0.63636364]\n",
            " [0.18181818]]\n"
          ],
          "name": "stdout"
        },
        {
          "output_type": "display_data",
          "data": {
            "image/png": "[encoded data removed]",
            "text/plain": [
              "<matplotlib.figure.Figure at 0x7f4a1f626fd0>"
            ]
          },
          "metadata": {
            "tags": []
          }
        }
      ]
    },
    {
      "metadata": {
        "id": "mKKYAPFvJYdx",
        "colab_type": "text"
      },
      "cell_type": "markdown",
      "source": [
        "λ = 6"
      ]
    },
    {
      "metadata": {
        "id": "zYSMgGavJP_J",
        "colab_type": "code",
        "colab": {
          "autoexec": {
            "startup": false,
            "wait_interval": 0
          },
          "base_uri": "https://localhost:8080/",
          "height": 381
        },
        "outputId": "c794641e-258f-42d7-b60b-dbfda48eac27",
        "executionInfo": {
          "status": "ok",
          "timestamp": 1533708422026,
          "user_tz": -540,
          "elapsed": 828,
          "user": {
            "displayName": "鄭志豪",
            "photoUrl": "https://lh3.googleusercontent.com/a/default-user=s128",
            "userId": "104522314461618159020"
          }
        }
      },
      "cell_type": "code",
      "source": [
        "# -*- coding: utf-8 -*-\n",
        "\n",
        "import numpy as np\n",
        "import matplotlib.pyplot as plt\n",
        "\n",
        "ramuda = 6\n",
        "A = np.mat([[3,0.5], [0.5,1]])\n",
        "w = np.mat([[3], [-1]])\n",
        "myu = np.array([[1], [2]])\n",
        "Lipsitz = np.max(np.linalg.eigvals(2 * A))\n",
        "\n",
        "def f(A, w, myu, ramuda):\n",
        "  return (np.dot(np.dot((w - myu).T, A), (w - myu)) + ramuda * np.linalg.norm(w, 1))[0, 0]\n",
        "\n",
        "def grad(A, w, myu):\n",
        "  return 2 * np.dot(A, (w - myu))\n",
        "\n",
        "def soft_thresh(update, threshold):\n",
        "  return np.multiply(np.sign(update), np.maximum(0, np.abs(update) - threshold))\n",
        "\n",
        "def q(t):\n",
        "  return (t - 1) / (t + 2)\n",
        "\n",
        "if __name__ == '__main__':\n",
        "  J_list = []\n",
        "  W = []\n",
        "  J_list_APG = []\n",
        "  \n",
        "  # PG method\n",
        "  for i in range(100):\n",
        "    J_list.append(f(A, w, myu, ramuda))\n",
        "    W.append((w[0, 0], w[1, 0]))\n",
        "    w = soft_thresh(w - grad(A, w, myu) / Lipsitz, ramuda / Lipsitz)\n",
        "  J = f(A, w, myu, ramuda)\n",
        "  res = []\n",
        "  for element in W:\n",
        "    res.append(np.linalg.norm((element[0] - w[0,0], element[0] - w[1,0])))\n",
        "  \n",
        "  # APG method\n",
        "  w = np.mat([[3],[-1]])\n",
        "  J_list_APG.append(f(A, w, myu, ramuda))\n",
        "  w_pre = w\n",
        "  w = soft_thresh(w-grad(A,w_pre,myu)/Lipsitz, ramuda / Lipsitz)\n",
        "  for i in range(1, 150):\n",
        "    v = w + q(i) * (w - w_pre)\n",
        "    w_pre = w\n",
        "    J_list_APG.append(f(A, w, myu, ramuda))\n",
        "    w = soft_thresh(v-grad(A, v, myu) / Lipsitz, ramuda / Lipsitz)\n",
        "  J_APG = f(A, w, myu, ramuda)\n",
        "  print(w)\n",
        "\n",
        "  # compare with AG in problem2-1\n",
        "  plt.yscale('log') \n",
        "  plt.plot(J_list - J)\n",
        "  plt.plot(J_list_APG - J_APG)\n",
        "  plt.legend(['PG', 'APG'])\n",
        "  plt.show()"
      ],
      "execution_count": 5,
      "outputs": [
        {
          "output_type": "stream",
          "text": [
            "[[0.33333333]\n",
            " [0.        ]]\n"
          ],
          "name": "stdout"
        },
        {
          "output_type": "display_data",
          "data": {
            "image/png": "[encoded data removed]",
            "text/plain": [
              "<matplotlib.figure.Figure at 0x7f4a1f497dd8>"
            ]
          },
          "metadata": {
            "tags": []
          }
        }
      ]
    },
    {
      "metadata": {
        "id": "1sPFTxOgJUgA",
        "colab_type": "code",
        "colab": {
          "autoexec": {
            "startup": false,
            "wait_interval": 0
          }
        }
      },
      "cell_type": "code",
      "source": [
        ""
      ],
      "execution_count": 0,
      "outputs": []
    }
  ]
}
