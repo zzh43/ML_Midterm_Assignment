{
  "nbformat": 4,
  "nbformat_minor": 0,
  "metadata": {
    "colab": {
      "name": "Untitled6.ipynb",
      "version": "0.3.2",
      "views": {},
      "default_view": {},
      "provenance": []
    },
    "kernelspec": {
      "name": "python3",
      "display_name": "Python 3"
    }
  },
  "cells": [
    {
      "metadata": {
        "id": "qQTeXTlvd8_T",
        "colab_type": "text"
      },
      "cell_type": "markdown",
      "source": [
        "情報理工学院・情報工学系\n",
        "\n",
        "18M30841\n",
        "\n",
        "鄭 志豪"
      ]
    },
    {
      "metadata": {
        "id": "FE8GtcQyeBv4",
        "colab_type": "text"
      },
      "cell_type": "markdown",
      "source": [
        "problem2-1: Proximal Gradient method"
      ]
    },
    {
      "metadata": {
        "id": "vBon0Xufd7zZ",
        "colab_type": "code",
        "colab": {
          "autoexec": {
            "startup": false,
            "wait_interval": 0
          },
          "base_uri": "https://localhost:8080/",
          "height": 381
        },
        "outputId": "46840724-aa63-4f08-fcba-7be607666fa8",
        "executionInfo": {
          "status": "ok",
          "timestamp": 1533564938357,
          "user_tz": -540,
          "elapsed": 831,
          "user": {
            "displayName": "鄭志豪",
            "photoUrl": "https://lh3.googleusercontent.com/a/default-user=s128",
            "userId": "104522314461618159020"
          }
        }
      },
      "cell_type": "code",
      "source": [
        "# -*- coding: utf-8 -*-\n",
        "\n",
        "import numpy as np\n",
        "import matplotlib.pyplot as plt\n",
        "\n",
        "ramuda = 1\n",
        "A = np.mat([[3,0.5], [0.5,1]])\n",
        "w = np.mat([[3], [-1]])\n",
        "myu = np.array([[1], [2]])\n",
        "Lipsitz = np.max(np.linalg.eigvals(2 * A))\n",
        "\n",
        "def f(A, w, myu, ramuda):\n",
        "  return (np.dot(np.dot((w - myu).T, A), (w - myu)) + ramuda * np.linalg.norm(w, 1))[0, 0]\n",
        "\n",
        "def grad(A, w, myu):\n",
        "  return 2 * np.dot(A, (w - myu))\n",
        "\n",
        "def soft_thresh(update, threshold):\n",
        "  return np.multiply(np.sign(update), np.maximum(0, np.abs(update) - threshold))\n",
        "\n",
        "if __name__ == '__main__':\n",
        "  J_list = []\n",
        "  W = []\n",
        "\n",
        "  for i in range(100):\n",
        "    J_list.append(f(A, w, myu, ramuda))\n",
        "    W.append((w[0, 0], w[1, 0]))\n",
        "    w = soft_thresh(w - grad(A, w, myu) / Lipsitz, ramuda / Lipsitz)\n",
        "  print(w)\n",
        "\n",
        "  res = []\n",
        "  for element in W:\n",
        "    res.append(np.linalg.norm((element[0] - w[0,0], element[0] - w[1,0])))\n",
        "\n",
        "  plt.yscale('log') \n",
        "  plt.plot(res)\n",
        "  plt.show()\n"
      ],
      "execution_count": 14,
      "outputs": [
        {
          "output_type": "stream",
          "text": [
            "[[0.90909091]\n",
            " [1.54545455]]\n"
          ],
          "name": "stdout"
        },
        {
          "output_type": "display_data",
          "data": {
            "image/png": "[encoded data removed]",
            "text/plain": [
              "<matplotlib.figure.Figure at 0x7fe478042f28>"
            ]
          },
          "metadata": {
            "tags": []
          }
        }
      ]
    },
    {
      "metadata": {
        "id": "-4ycVLAgmCWj",
        "colab_type": "text"
      },
      "cell_type": "markdown",
      "source": [
        "problem2-2: Accelerated Proximal Gradient method"
      ]
    },
    {
      "metadata": {
        "id": "btsXyBTteTnr",
        "colab_type": "code",
        "colab": {
          "autoexec": {
            "startup": false,
            "wait_interval": 0
          },
          "base_uri": "https://localhost:8080/",
          "height": 381
        },
        "outputId": "37f0b7f5-659e-4dd7-8f98-34d3695adda1",
        "executionInfo": {
          "status": "ok",
          "timestamp": 1533564941506,
          "user_tz": -540,
          "elapsed": 786,
          "user": {
            "displayName": "鄭志豪",
            "photoUrl": "https://lh3.googleusercontent.com/a/default-user=s128",
            "userId": "104522314461618159020"
          }
        }
      },
      "cell_type": "code",
      "source": [
        "# -*- coding: utf-8 -*-\n",
        "\n",
        "import numpy as np\n",
        "import matplotlib.pyplot as plt\n",
        "\n",
        "ramuda = 1\n",
        "A = np.mat([[3,0.5], [0.5,1]])\n",
        "w = np.mat([[3], [-1]])\n",
        "myu = np.array([[1], [2]])\n",
        "Lipsitz = np.max(np.linalg.eigvals(2 * A))\n",
        "\n",
        "def f(A, w, myu, ramuda):\n",
        "  return (np.dot(np.dot((w - myu).T, A), (w - myu)) + ramuda * np.linalg.norm(w, 1))[0, 0]\n",
        "\n",
        "def grad(A, w, myu):\n",
        "  return 2 * np.dot(A, (w - myu))\n",
        "\n",
        "def soft_thresh(update, threshold):\n",
        "  return np.multiply(np.sign(update), np.maximum(0, np.abs(update) - threshold))\n",
        "\n",
        "def q(t):\n",
        "  return (t - 1) / (t + 2)\n",
        "\n",
        "if __name__ == '__main__':\n",
        "  J_list = []\n",
        "  W = []\n",
        "  J_list_APG = []\n",
        "  \n",
        "  # PG method\n",
        "  for i in range(100):\n",
        "    J_list.append(f(A, w, myu, ramuda))\n",
        "    W.append((w[0, 0], w[1, 0]))\n",
        "    w = soft_thresh(w - grad(A, w, myu) / Lipsitz, ramuda / Lipsitz)\n",
        "  J = f(A, w, myu, ramuda)\n",
        "  res = []\n",
        "  for element in W:\n",
        "    res.append(np.linalg.norm((element[0] - w[0,0], element[0] - w[1,0])))\n",
        "  \n",
        "  # APG method\n",
        "  w = np.mat([[3],[-1]])\n",
        "  J_list_APG.append(f(A, w, myu, ramuda))\n",
        "  w_pre = w\n",
        "  w = soft_thresh(w-grad(A,w_pre,myu)/Lipsitz, ramuda / Lipsitz)\n",
        "  for i in range(1, 150):\n",
        "    v = w + q(i) * (w - w_pre)\n",
        "    w_pre = w\n",
        "    J_list_APG.append(f(A, w, myu, ramuda))\n",
        "    w = soft_thresh(v-grad(A, v, myu) / Lipsitz, ramuda / Lipsitz)\n",
        "  J_APG = f(A, w, myu, ramuda)\n",
        "  print(w)\n",
        "\n",
        "  # compare with AG in problem2-1\n",
        "  plt.yscale('log') \n",
        "  plt.plot(J_list - J)\n",
        "  plt.plot(J_list_APG - J_APG)\n",
        "  plt.legend(['PG', 'APG'])\n",
        "  plt.show()"
      ],
      "execution_count": 15,
      "outputs": [
        {
          "output_type": "stream",
          "text": [
            "[[0.90909091]\n",
            " [1.54545455]]\n"
          ],
          "name": "stdout"
        },
        {
          "output_type": "display_data",
          "data": {
            "image/png": "[encoded data removed]",
            "text/plain": [
              "<matplotlib.figure.Figure at 0x7fe477eea828>"
            ]
          },
          "metadata": {
            "tags": []
          }
        }
      ]
    },
    {
      "metadata": {
        "id": "pNQ51QWJggma",
        "colab_type": "code",
        "colab": {
          "autoexec": {
            "startup": false,
            "wait_interval": 0
          }
        }
      },
      "cell_type": "code",
      "source": [
        ""
      ],
      "execution_count": 0,
      "outputs": []
    }
  ]
}
