{
 "cells": [
  {
   "cell_type": "code",
   "execution_count": 1,
   "metadata": {
    "collapsed": true
   },
   "outputs": [],
   "source": [
    "import numpy as np"
   ]
  },
  {
   "cell_type": "markdown",
   "metadata": {},
   "source": [
    "PG"
   ]
  },
  {
   "cell_type": "code",
   "execution_count": 2,
   "metadata": {
    "collapsed": true
   },
   "outputs": [],
   "source": [
    "lamda = 2\n",
    "A = np.mat([[3,0.5],[0.5,1]])\n",
    "w = np.mat([[3],[-1]])\n",
    "myu = np.array([[1],[2]])\n",
    "Lipsitz = np.max(np.linalg.eigvals(2*A))"
   ]
  },
  {
   "cell_type": "code",
   "execution_count": 3,
   "metadata": {
    "collapsed": true
   },
   "outputs": [],
   "source": [
    "def f(A,w,myu,lamda):\n",
    "    return (np.dot(np.dot((w-myu).T,A),(w-myu)) + lamda*np.linalg.norm(w,1))[0,0]\n",
    "\n",
    "def grad(A,w,myu):\n",
    "    return 2*np.dot(A,(w - myu))# + lamda*np.sign(w)\n",
    "\n",
    "def soft_thresh(update,threshold):\n",
    "    return np.multiply(np.sign(update),np.maximum(0, np.abs(update)-threshold))\n",
    "    #return np.multiply(np.sign(value), np.maximum(np.zeros(np.shape(value)), np.abs(value) - lamda))"
   ]
  },
  {
   "cell_type": "code",
   "execution_count": 4,
   "metadata": {},
   "outputs": [
    {
     "name": "stdout",
     "output_type": "stream",
     "text": [
      "[[ 0.81818182]\n",
      " [ 1.09090909]]\n"
     ]
    }
   ],
   "source": [
    "J_list = []\n",
    "W = []\n",
    "for i in range(100):\n",
    "    J_list.append(f(A,w,myu,lamda))\n",
    "    W.append((w[0,0],w[1,0]))\n",
    "    w = soft_thresh(w-grad(A,w,myu)/Lipsitz, lamda/Lipsitz)\n",
    "print(w)\n",
    "J = f(A,w,myu,lamda)\n",
    "#J_list\n",
    "res = []\n",
    "for element in W:\n",
    "    res.append(np.linalg.norm((element[0]-w[0,0],element[0]-w[1,0])))"
   ]
  },
  {
   "cell_type": "code",
   "execution_count": 5,
   "metadata": {
    "scrolled": true
   },
   "outputs": [
    {
     "data": {
      "image/png": "[encoded data removed]",
      "text/plain": [
       "<matplotlib.figure.Figure at 0x1075fd860>"
      ]
     },
     "metadata": {},
     "output_type": "display_data"
    }
   ],
   "source": [
    "import matplotlib.pyplot as plt\n",
    "plt.yscale('log') \n",
    "plt.plot(res)\n",
    "plt.show()"
   ]
  },
  {
   "cell_type": "markdown",
   "metadata": {
    "collapsed": true
   },
   "source": [
    "APG"
   ]
  },
  {
   "cell_type": "code",
   "execution_count": 6,
   "metadata": {
    "collapsed": true
   },
   "outputs": [],
   "source": [
    "A = np.mat([[3,0.5],[0.5,1]])\n",
    "w = np.mat([[3],[-1]])\n",
    "myu = np.array([[1],[2]])\n",
    "Lipsitz = np.max(np.linalg.eigvals(2*A))"
   ]
  },
  {
   "cell_type": "code",
   "execution_count": 7,
   "metadata": {
    "collapsed": true
   },
   "outputs": [],
   "source": [
    "def q(t):\n",
    "    return (t-1)/(t+2)"
   ]
  },
  {
   "cell_type": "code",
   "execution_count": 8,
   "metadata": {},
   "outputs": [
    {
     "name": "stdout",
     "output_type": "stream",
     "text": [
      "[[ 0.81818182]\n",
      " [ 1.09090909]]\n"
     ]
    }
   ],
   "source": [
    "J_list_APG = []\n",
    "J_list_APG.append(f(A,w,myu,lamda))\n",
    "w_pre = w\n",
    "w = soft_thresh(w-grad(A,w_pre,myu)/Lipsitz, lamda/Lipsitz)\n",
    "for i in range(1,150):\n",
    "    v =w + q(i) *(w - w_pre)\n",
    "    w_pre = w\n",
    "    J_list_APG.append(f(A,w,myu,lamda))\n",
    "    w = soft_thresh(v-grad(A,v,myu)/Lipsitz, lamda/Lipsitz)\n",
    "print(w)\n",
    "J_APG = f(A,w,myu,lamda)"
   ]
  },
  {
   "cell_type": "code",
   "execution_count": 9,
   "metadata": {
    "scrolled": true
   },
   "outputs": [
    {
     "data": {
      "image/png": "[encoded data removed]",
      "text/plain": [
       "<matplotlib.figure.Figure at 0x1121955f8>"
      ]
     },
     "metadata": {},
     "output_type": "display_data"
    }
   ],
   "source": [
    "import matplotlib.pyplot as plt\n",
    "plt.yscale('log') \n",
    "plt.plot(J_list - J)\n",
    "plt.plot(J_list_APG-J_APG)\n",
    "plt.legend(['PG','APG'])\n",
    "plt.show()"
   ]
  },
  {
   "cell_type": "code",
   "execution_count": null,
   "metadata": {
    "collapsed": true
   },
   "outputs": [],
   "source": []
  },
  {
   "cell_type": "code",
   "execution_count": null,
   "metadata": {
    "collapsed": true
   },
   "outputs": [],
   "source": []
  }
 ],
 "metadata": {
  "kernelspec": {
   "display_name": "Python 3",
   "language": "python",
   "name": "python3"
  },
  "language_info": {
   "codemirror_mode": {
    "name": "ipython",
    "version": 3
   },
   "file_extension": ".py",
   "mimetype": "text/x-python",
   "name": "python",
   "nbconvert_exporter": "python",
   "pygments_lexer": "ipython3",
   "version": "3.6.0"
  }
 },
 "nbformat": 4,
 "nbformat_minor": 2
}
