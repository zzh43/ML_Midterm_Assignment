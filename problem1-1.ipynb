{
  "nbformat": 4,
  "nbformat_minor": 0,
  "metadata": {
    "colab": {
      "name": "problem1-1.ipynb",
      "version": "0.3.2",
      "views": {},
      "default_view": {},
      "provenance": []
    },
    "kernelspec": {
      "name": "python2",
      "display_name": "Python 2"
    }
  },
  "cells": [
    {
      "metadata": {
        "id": "gteYBWzaCpwO",
        "colab_type": "text"
      },
      "cell_type": "markdown",
      "source": [
        "情報理工学院・情報工学系\n",
        "\n",
        "18M30841\n",
        "\n",
        "鄭 志豪"
      ]
    },
    {
      "metadata": {
        "id": "JOlrvIqiC46I",
        "colab_type": "text"
      },
      "cell_type": "markdown",
      "source": [
        "problem1-1: Steepest gradient descent method"
      ]
    },
    {
      "metadata": {
        "id": "dgrIDCedC857",
        "colab_type": "code",
        "colab": {
          "autoexec": {
            "startup": false,
            "wait_interval": 0
          },
          "base_uri": "https://localhost:8080/",
          "height": 1717
        },
        "outputId": "1556006b-6e1c-43c0-b957-84cd49daced3",
        "executionInfo": {
          "status": "ok",
          "timestamp": 1533539264452,
          "user_tz": -540,
          "elapsed": 637,
          "user": {
            "displayName": "鄭志豪",
            "photoUrl": "https://lh3.googleusercontent.com/a/default-user=s128",
            "userId": "104522314461618159020"
          }
        }
      },
      "cell_type": "code",
      "source": [
        "# -*- coding: utf-8 -*-\n",
        "\n",
        "import numpy as np\n",
        "import math\n",
        "import random\n",
        "\n",
        "# learning rate\n",
        "rate = 0.3\n",
        "# hyper parameter\n",
        "ramuda = 1.0  \n",
        "\n",
        "# data set\n",
        "n = 40\n",
        "np.random.seed(5)\n",
        "omega = np.random.randn(1, 1)\n",
        "random.seed(5)\n",
        "noise = 0.8 * np.random.randn(n, 1)\n",
        "random.seed(5)\n",
        "x = np.random.randn(n, 2)\n",
        "y = 2 * (omega * x[:, 0] + x[:, 1] + noise.T > 0) - 1\n",
        "w = np.mat('5; 5')\n",
        "\n",
        "# log-loss\n",
        "def calc_loss(y, w, x):\n",
        "    error = 0\n",
        "    two = np.dot(w.T, w)\n",
        "    for i in range(0, len(y.T)):\n",
        "        one = (-1) * y[0, i] * np.dot(x[i], w)\n",
        "        error = error + math.log(1 + math.exp(one[0, 0]))\n",
        "\n",
        "    return error + ramuda * two[0, 0]\n",
        "\n",
        "def djw(y, w, x):\n",
        "    n = np.mat('0; 0')\n",
        "    for i in range(0, len(y.T)):\n",
        "        k = (-1) * y[0, i] * np.dot(x[i], w)\n",
        "        l = math.exp(k[0, 0])\n",
        "        m = np.mat(x[i])\n",
        "        n = n + y[0, i] * m.T * l/(1 + l)\n",
        "        step_length = n + 2 * ramuda * w\n",
        "    return step_length\n",
        "\n",
        "if __name__ == '__main__':\n",
        "    for step in range(1, 51):\n",
        "        loss = 0\n",
        "        step_length = djw(y, w, x)\n",
        "        loss = calc_loss(y, w, x)\n",
        "        w = w - rate * step_length\n",
        "        print(\"step: \", step, \" loss: \", loss, \" w: \", w)\n"
      ],
      "execution_count": 4,
      "outputs": [
        {
          "output_type": "stream",
          "text": [
            "('step: ', 1, ' loss: ', 72.42363480276184, ' w: ', matrix([[3.64009396],\n",
            "        [1.32345271]]))\n",
            "('step: ', 2, ' loss: ', 43.29360038492404, ' w: ', matrix([[ 3.61738098],\n",
            "        [-1.67598006]]))\n",
            "('step: ', 3, ' loss: ', 92.35120347194999, ' w: ', matrix([[ 3.58444497],\n",
            "        [-7.78346987]]))\n",
            "('step: ', 4, ' loss: ', 326.23147000938764, ' w: ', matrix([[  1.93460599],\n",
            "        [-12.48209499]]))\n",
            "('step: ', 5, ' loss: ', 561.6668021342061, ' w: ', matrix([[  0.43659373],\n",
            "        [-14.654333  ]]))\n",
            "('step: ', 6, ' loss: ', 689.1639548497732, ' w: ', matrix([[ -0.31856112],\n",
            "        [-15.53674976]]))\n",
            "('step: ', 7, ' loss: ', 745.5223728429282, ' w: ', matrix([[ -0.70796126],\n",
            "        [-15.88887352]]))\n",
            "('step: ', 8, ' loss: ', 769.1278783805329, ' w: ', matrix([[ -0.91482627],\n",
            "        [-16.02745346]]))\n",
            "('step: ', 9, ' loss: ', 778.7994740329259, ' w: ', matrix([[ -1.02681361],\n",
            "        [-16.08108124]]))\n",
            "('step: ', 10, ' loss: ', 782.717115853723, ' w: ', matrix([[ -1.08813901],\n",
            "        [-16.10135399]]))\n",
            "('step: ', 11, ' loss: ', 784.2920282611067, ' w: ', matrix([[ -1.12196564],\n",
            "        [-16.10874717]]))\n",
            "('step: ', 12, ' loss: ', 784.9209054342391, ' w: ', matrix([[ -1.1407126 ],\n",
            "        [-16.11128412]]))\n",
            "('step: ', 13, ' loss: ', 785.1701484683106, ' w: ', matrix([[ -1.15113513],\n",
            "        [-16.11205662]]))\n",
            "('step: ', 14, ' loss: ', 785.2679907125453, ' w: ', matrix([[ -1.15694197],\n",
            "        [-16.11222747]]))\n",
            "('step: ', 15, ' loss: ', 785.3058942107998, ' w: ', matrix([[ -1.16018193],\n",
            "        [-16.11221753]]))\n",
            "('step: ', 16, ' loss: ', 785.3202955939562, ' w: ', matrix([[ -1.16199148],\n",
            "        [-16.11216938]]))\n",
            "('step: ', 17, ' loss: ', 785.3256053314572, ' w: ', matrix([[ -1.16300284],\n",
            "        [-16.11212526]]))\n",
            "('step: ', 18, ' loss: ', 785.3274674548147, ' w: ', matrix([[ -1.16356836],\n",
            "        [-16.11209365]]))\n",
            "('step: ', 19, ' loss: ', 785.3280622260828, ' w: ', matrix([[ -1.16388469],\n",
            "        [-16.11207316]]))\n",
            "('step: ', 20, ' loss: ', 785.3282147734035, ' w: ', matrix([[ -1.16406167],\n",
            "        [-16.11206057]]))\n",
            "('step: ', 21, ' loss: ', 785.3282274886001, ' w: ', matrix([[ -1.16416071],\n",
            "        [-16.11205307]]))\n",
            "('step: ', 22, ' loss: ', 785.3282053329137, ' w: ', matrix([[ -1.16421613],\n",
            "        [-16.11204869]]))\n",
            "('step: ', 23, ' loss: ', 785.3281811419258, ' w: ', matrix([[ -1.16424715],\n",
            "        [-16.11204617]]))\n",
            "('step: ', 24, ' loss: ', 785.3281628534941, ' w: ', matrix([[ -1.16426452],\n",
            "        [-16.11204473]]))\n",
            "('step: ', 25, ' loss: ', 785.3281507048152, ' w: ', matrix([[ -1.16427423],\n",
            "        [-16.11204391]]))\n",
            "('step: ', 26, ' loss: ', 785.3281431347671, ' w: ', matrix([[ -1.16427968],\n",
            "        [-16.11204344]]))\n",
            "('step: ', 27, ' loss: ', 785.3281385874097, ' w: ', matrix([[ -1.16428272],\n",
            "        [-16.11204318]]))\n",
            "('step: ', 28, ' loss: ', 785.3281359171546, ' w: ', matrix([[ -1.16428443],\n",
            "        [-16.11204303]]))\n",
            "('step: ', 29, ' loss: ', 785.3281343721701, ' w: ', matrix([[ -1.16428538],\n",
            "        [-16.11204295]]))\n",
            "('step: ', 30, ' loss: ', 785.3281334870885, ' w: ', matrix([[ -1.16428591],\n",
            "        [-16.1120429 ]]))\n",
            "('step: ', 31, ' loss: ', 785.328132983487, ' w: ', matrix([[ -1.16428621],\n",
            "        [-16.11204288]]))\n",
            "('step: ', 32, ' loss: ', 785.3281326982966, ' w: ', matrix([[ -1.16428638],\n",
            "        [-16.11204286]]))\n",
            "('step: ', 33, ' loss: ', 785.3281325373275, ' w: ', matrix([[ -1.16428647],\n",
            "        [-16.11204286]]))\n",
            "('step: ', 34, ' loss: ', 785.3281324466857, ' w: ', matrix([[ -1.16428653],\n",
            "        [-16.11204285]]))\n",
            "('step: ', 35, ' loss: ', 785.3281323957301, ' w: ', matrix([[ -1.16428656],\n",
            "        [-16.11204285]]))\n",
            "('step: ', 36, ' loss: ', 785.3281323671185, ' w: ', matrix([[ -1.16428657],\n",
            "        [-16.11204285]]))\n",
            "('step: ', 37, ' loss: ', 785.3281323510671, ' w: ', matrix([[ -1.16428658],\n",
            "        [-16.11204285]]))\n",
            "('step: ', 38, ' loss: ', 785.3281323420674, ' w: ', matrix([[ -1.16428659],\n",
            "        [-16.11204285]]))\n",
            "('step: ', 39, ' loss: ', 785.3281323370238, ' w: ', matrix([[ -1.16428659],\n",
            "        [-16.11204285]]))\n",
            "('step: ', 40, ' loss: ', 785.328132334198, ' w: ', matrix([[ -1.16428659],\n",
            "        [-16.11204284]]))\n",
            "('step: ', 41, ' loss: ', 785.3281323326148, ' w: ', matrix([[ -1.16428659],\n",
            "        [-16.11204284]]))\n",
            "('step: ', 42, ' loss: ', 785.3281323317284, ' w: ', matrix([[ -1.16428659],\n",
            "        [-16.11204284]]))\n",
            "('step: ', 43, ' loss: ', 785.3281323312322, ' w: ', matrix([[ -1.16428659],\n",
            "        [-16.11204284]]))\n",
            "('step: ', 44, ' loss: ', 785.3281323309543, ' w: ', matrix([[ -1.16428659],\n",
            "        [-16.11204284]]))\n",
            "('step: ', 45, ' loss: ', 785.3281323307988, ' w: ', matrix([[ -1.16428659],\n",
            "        [-16.11204284]]))\n",
            "('step: ', 46, ' loss: ', 785.3281323307115, ' w: ', matrix([[ -1.16428659],\n",
            "        [-16.11204284]]))\n",
            "('step: ', 47, ' loss: ', 785.3281323306628, ' w: ', matrix([[ -1.16428659],\n",
            "        [-16.11204284]]))\n",
            "('step: ', 48, ' loss: ', 785.3281323306353, ' w: ', matrix([[ -1.16428659],\n",
            "        [-16.11204284]]))\n",
            "('step: ', 49, ' loss: ', 785.32813233062, ' w: ', matrix([[ -1.16428659],\n",
            "        [-16.11204284]]))\n",
            "('step: ', 50, ' loss: ', 785.3281323306114, ' w: ', matrix([[ -1.16428659],\n",
            "        [-16.11204284]]))\n"
          ],
          "name": "stdout"
        }
      ]
    },
    {
      "metadata": {
        "id": "06kdGimhDBC8",
        "colab_type": "code",
        "colab": {
          "autoexec": {
            "startup": false,
            "wait_interval": 0
          }
        }
      },
      "cell_type": "code",
      "source": [
        ""
      ],
      "execution_count": 0,
      "outputs": []
    }
  ]
}