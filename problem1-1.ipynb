{
  "nbformat": 4,
  "nbformat_minor": 0,
  "metadata": {
    "colab": {
      "name": "Untitled11.ipynb",
      "version": "0.3.2",
      "provenance": []
    },
    "kernelspec": {
      "name": "python2",
      "display_name": "Python 2"
    }
  },
  "cells": [
    {
      "metadata": {
        "id": "kXtc5aG1-G4G",
        "colab_type": "text"
      },
      "cell_type": "markdown",
      "source": [
        "情報理工学院・情報工学系\n",
        "\n",
        "18M30841\n",
        "\n",
        "鄭 志豪"
      ]
    },
    {
      "metadata": {
        "id": "1hZR-SMVAccB",
        "colab_type": "text"
      },
      "cell_type": "markdown",
      "source": [
        "\n",
        "problem1-1: Steepest gradient descent method"
      ]
    },
    {
      "metadata": {
        "id": "kTTsiMiD93cQ",
        "colab_type": "code",
        "colab": {
          "base_uri": "https://localhost:8080/",
          "height": 361
        },
        "outputId": "ee77c7c7-a45e-4327-cdf6-0c61247a4d70"
      },
      "cell_type": "code",
      "source": [
        "# -*- coding: utf-8 -*-\n",
        "\n",
        "import numpy as np\n",
        "import math\n",
        "import random\n",
        "from matplotlib import pyplot as plt\n",
        "\n",
        "# learning rate\n",
        "rate = 0.2\n",
        "# hyper parameter\n",
        "ramuda = 1.0  \n",
        "\n",
        "# data set\n",
        "n = 40\n",
        "omega = np.random.randn(1, 1)\n",
        "noise = 0.8 * np.random.randn(n, 1)\n",
        "x = np.random.randn(n, 2)\n",
        "y = 2 * (omega * x[:, 0] + x[:, 1] + noise.T > 0) - 1\n",
        "\n",
        "w_sgd = np.random.randn(1, 2)\n",
        "Lip = np.max(np.linalg.eigvals(np.dot(x.T, x) + 2 * ramuda)) / 4\n",
        "jw_sgd = []\n",
        "\n",
        "# jw (log-loss)\n",
        "def jw(y, w, x):\n",
        "    temp = 0.0\n",
        "    for i in range(0, len(y)):\n",
        "        k = -y[0, i] * np.dot(w[0].T, x[i])\n",
        "        temp += math.log(1 + math.exp(k))\n",
        "    jw = (1 / n) * temp + ramuda * np.dot(w[0].T, w[0])\n",
        "    return jw\n",
        "\n",
        "# djw\n",
        "def djw(y, w, x):\n",
        "    temp = 0.0\n",
        "    for i in range(0, len(y)):\n",
        "      a = math.exp(-y[0, i] * np.dot(w[0].T, x[i]))\n",
        "      b = -y[0, i] * x[i]\n",
        "      temp += (a * b) / (1 + a)\n",
        "    djw = (1 / n) * temp + 2 * ramuda * w\n",
        "    return djw\n",
        "\n",
        "if __name__ == '__main__':\n",
        "    loss_sgd = jw(y, w_sgd, x)\n",
        "    jw_sgd.append(loss_sgd)\n",
        "    for step in range(1, 16):\n",
        "        d = djw(y, w_sgd, x)\n",
        "        w_sgd = w_sgd - (1 / Lip) * d\n",
        "        loss_sgd = jw(y, w_sgd, x)\n",
        "        jw_sgd.append(loss_sgd)\n",
        "\n",
        "    plt.plot(jw_sgd)\n",
        "    plt.xlabel('interation')\n",
        "    plt.ylabel('J(w)')\n",
        "    plt.show()"
      ],
      "execution_count": 1,
      "outputs": [
        {
          "output_type": "display_data",
          "data": {
            "image/png": "[encoded data removed]",
            "text/plain": [
              "<matplotlib.figure.Figure at 0x7f733d2af1d0>"
            ]
          },
          "metadata": {
            "tags": []
          }
        }
      ]
    }
  ]
}
